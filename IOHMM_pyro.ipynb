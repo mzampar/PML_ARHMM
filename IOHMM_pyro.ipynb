{
 "cells": [
  {
   "cell_type": "code",
   "execution_count": 39,
   "metadata": {},
   "outputs": [],
   "source": [
    "import numpy as np\n",
    "import torch\n",
    "from torch import nn\n",
    "import pyro\n",
    "import pyro.distributions as dist\n",
    "from pyro.infer import SVI, Trace_ELBO\n",
    "from pyro.optim import Adam\n",
    "import matplotlib.pyplot as plt"
   ]
  },
  {
   "cell_type": "code",
   "execution_count": 40,
   "metadata": {},
   "outputs": [],
   "source": [
    "def logits_to_probs(logits):\n",
    "    return torch.exp(logits - torch.logsumexp(logits, dim=-1, keepdim=True))\n",
    "\n",
    "class IOHMM_model:\n",
    "    def __init__(self, num_states, inputs, outputs, max_iter, tol,\n",
    "                 initial_pi=None, theta_transition=None, theta_emission=None, sd=None):\n",
    "    \n",
    "        self.num_states = num_states\n",
    "        self.inputs = inputs\n",
    "        self.outputs = outputs\n",
    "        self.T = inputs.shape[0]\n",
    "        self.max_iter = max_iter\n",
    "        self.tol = tol\n",
    "        self.history = []\n",
    "\n",
    "        # Initialize parameters\n",
    "        self.initial_pi = torch.ones(num_states) / num_states if initial_pi is None else initial_pi\n",
    "        self.theta_transition = torch.randn(num_states, num_states, inputs.shape[1] + 1) if theta_transition is None else theta_transition\n",
    "        self.theta_emission = torch.randn(num_states, inputs.shape[1] + 1) if theta_emission is None else theta_emission\n",
    "        self.sd = torch.ones(num_states, self.T) if sd is None else sd\n",
    "        #self.theta_transition = pyro.param('theta_transition', torch.randn(num_states, num_states, inputs.shape[1] + 1))\n",
    "        #self.theta_emission = pyro.param('theta_emission', torch.randn(num_states, inputs.shape[1] + 1))\n",
    "        #self.sd = pyro.param('sd', torch.ones(num_states, self.T), constraint=dist.constraints.positive)\n",
    "        #self.initial_pi = pyro.param('initial_pi', torch.ones(num_states) / num_states, constraint=dist.constraints.simplex)\n",
    "\n",
    "\n",
    "    def model(self, inputs, outputs):\n",
    "        \n",
    "        # Initial state distribution\n",
    "        z = pyro.sample('z_0', dist.Categorical(probs=self.initial_pi))\n",
    "\n",
    "        for t in range(self.T):\n",
    "            # Emission model\n",
    "            emission_mean = torch.matmul(self.theta_emission[z], torch.cat((torch.ones(1), inputs[t, :])).unsqueeze(-1)).squeeze()\n",
    "            sd = self.sd[z,t].exp()\n",
    "            pyro.sample(f'obs_{t}', dist.Normal(emission_mean, sd), obs=outputs[t])\n",
    "\n",
    "            if t < self.T - 1:\n",
    "                # Transition model\n",
    "                logits = torch.matmul(self.theta_transition[z], torch.cat((torch.ones(1), inputs[t, :])).unsqueeze(-1)).squeeze()\n",
    "                transition_probs = logits_to_probs(logits)\n",
    "                z = pyro.sample(f'z_{t+1}', dist.Categorical(probs=transition_probs))\n",
    "\n",
    "    def guide(self, inputs, outputs):\n",
    "        # Variational parameters for the initial state distribution\n",
    "        q_initial_pi = pyro.param('q_initial_pi', self.initial_pi, constraint=dist.constraints.simplex)\n",
    "        q_z = pyro.sample('z_0', dist.Categorical(probs=q_initial_pi))\n",
    "\n",
    "        q_theta_transition = pyro.param('q_theta_transition', self.theta_transition)\n",
    "        q_theta_emission = pyro.param('q_theta_emission', self.theta_emission)\n",
    "        q_sd = pyro.param('q_sd', self.sd, constraint=dist.constraints.positive)\n",
    "\n",
    "\n",
    "        for t in range(self.T - 1):\n",
    "            logits = torch.matmul(q_theta_transition[q_z], torch.cat((torch.ones(1), inputs[t, :])))\n",
    "            transition_probs = logits_to_probs(logits)\n",
    "            q_z = pyro.sample(f'z_{t+1}', dist.Categorical(probs=transition_probs))\n",
    "\n",
    "\n",
    "    def fit(self):\n",
    "        optimizer = Adam({\"lr\": 0.01})\n",
    "        svi = SVI(self.model, self.guide, optimizer, loss=Trace_ELBO())\n",
    "\n",
    "        for step in range(self.max_iter):\n",
    "            loss = svi.step(self.inputs, self.outputs)\n",
    "            \n",
    "            self.initial_pi = pyro.param('q_initial_pi')\n",
    "            self.theta_emission = pyro.param('q_theta_emission')\n",
    "            self.theta_transition = pyro.param('q_theta_transition')\n",
    "            self.sd = pyro.param('q_sd')\n",
    "\n",
    "            self.history.append(loss)\n",
    "            if step % 10 == 0:\n",
    "                print(f\"Step {step}: loss = {loss}\")\n",
    "            if step > 0 and abs(self.history[-1] - self.history[-2]) < self.tol:\n",
    "                break\n",
    "\n",
    "    \n",
    "\n",
    "\n",
    "\n",
    "    "
   ]
  },
  {
   "cell_type": "code",
   "execution_count": 41,
   "metadata": {},
   "outputs": [],
   "source": [
    "x=np.arange(np.pi/2 , 11*np.pi/2, 0.1)\n",
    "x=np.sin(x)\n",
    "x_shift = x[:-1]\n",
    "x = x[1:]\n",
    "diff = x - x_shift\n",
    "\n",
    "hidden_states = [0 if diff[i] > 0 else 1 for i in range(len(diff))]\n",
    "y = [x[i] + np.random.normal(0.5,0.1) if hidden_states[i]==0 else x[i] - np.random.normal(0.5,0.1) for i in range(len(x))]\n",
    "\n",
    "input = torch.tensor(np.array([x, diff]), dtype=torch.float32).T\n",
    "output = torch.tensor(y, dtype=torch.float32) "
   ]
  },
  {
   "cell_type": "code",
   "execution_count": 42,
   "metadata": {},
   "outputs": [
    {
     "name": "stdout",
     "output_type": "stream",
     "text": [
      "theta_transition\n",
      "tensor([[[ 0.7256, -1.7664,  0.6866],\n",
      "         [-0.8398, -0.9698, -0.8094]],\n",
      "\n",
      "        [[-1.6243,  0.4876,  0.1536],\n",
      "         [-1.0272,  1.0081, -1.3469]]])\n",
      "theta_emission\n",
      "tensor([[-0.8007, -0.1052,  0.3394],\n",
      "        [-0.8114,  0.9187,  0.9755]])\n",
      "initial_pi\n",
      "tensor([0.5000, 0.5000])\n"
     ]
    }
   ],
   "source": [
    "num_states = 2\n",
    "max_iter = 100\n",
    "tol = 1e-4\n",
    "\n",
    "iohmm = IOHMM_model(num_states, input, output, max_iter, tol)\n",
    "print(\"theta_transition\")\n",
    "print(iohmm.theta_transition)\n",
    "print(\"theta_emission\")\n",
    "print(iohmm.theta_emission)\n",
    "print(\"initial_pi\")\n",
    "print(iohmm.initial_pi)\n",
    "#print(iohmm.sd)"
   ]
  },
  {
   "cell_type": "code",
   "execution_count": 43,
   "metadata": {},
   "outputs": [
    {
     "name": "stdout",
     "output_type": "stream",
     "text": [
      "torch.Size([2, 3])\n",
      "torch.Size([157, 2])\n"
     ]
    }
   ],
   "source": [
    "print(iohmm.theta_emission.shape)\n",
    "print(iohmm.inputs.shape)"
   ]
  },
  {
   "cell_type": "code",
   "execution_count": 44,
   "metadata": {},
   "outputs": [
    {
     "name": "stdout",
     "output_type": "stream",
     "text": [
      "Step 0: loss = 326.63596537336707\n",
      "Step 10: loss = 148.86272311210632\n",
      "Step 20: loss = 148.86494535207748\n",
      "Step 30: loss = 148.97682797908783\n",
      "Step 40: loss = 148.9111254811287\n",
      "Step 50: loss = 148.86331743001938\n",
      "Step 60: loss = 148.8257588148117\n",
      "Step 70: loss = 148.82962447404861\n",
      "Step 80: loss = 148.84223932027817\n",
      "Step 90: loss = 148.903211414814\n"
     ]
    }
   ],
   "source": [
    "iohmm.fit()"
   ]
  },
  {
   "cell_type": "code",
   "execution_count": 45,
   "metadata": {},
   "outputs": [
    {
     "data": {
      "text/plain": [
       "[<matplotlib.lines.Line2D at 0x165137ee0>]"
      ]
     },
     "execution_count": 45,
     "metadata": {},
     "output_type": "execute_result"
    },
    {
     "data": {
      "image/png": "[encoded data removed]",
      "text/plain": [
       "<Figure size 640x480 with 1 Axes>"
      ]
     },
     "metadata": {},
     "output_type": "display_data"
    }
   ],
   "source": [
    "plt.plot(iohmm.history)"
   ]
  },
  {
   "cell_type": "code",
   "execution_count": 46,
   "metadata": {},
   "outputs": [
    {
     "name": "stdout",
     "output_type": "stream",
     "text": [
      "theta_transition\n",
      "tensor([[[-6.8666e-01, -1.1564e-01,  4.3451e-04],\n",
      "         [-9.0217e-01,  3.0896e+00, -1.2178e+00]],\n",
      "\n",
      "        [[ 8.7652e-01, -1.9793e-01,  5.9921e-01],\n",
      "         [ 9.6471e-01,  9.5218e-01, -2.6146e+00]]], requires_grad=True)\n",
      "theta_emission\n",
      "tensor([[-4.4803e-03,  1.0084e+00,  6.5019e+00],\n",
      "        [ 1.2432e-02,  9.4830e-01,  6.1796e+00]], requires_grad=True)\n",
      "initial_pi\n",
      "tensor([0.6059, 0.3941], grad_fn=<DivBackward0>)\n"
     ]
    }
   ],
   "source": [
    "# inspecting the learned parameters\n",
    "print(\"theta_transition\")\n",
    "print(iohmm.theta_transition)\n",
    "print(\"theta_emission\")\n",
    "print(iohmm.theta_emission)\n",
    "print(\"initial_pi\")\n",
    "print(iohmm.initial_pi)\n",
    "#print(iohmm.sd)"
   ]
  },
  {
   "cell_type": "code",
   "execution_count": 47,
   "metadata": {},
   "outputs": [
    {
     "name": "stdout",
     "output_type": "stream",
     "text": [
      "Final q_initial_pi: [0.6058648  0.39413518]\n"
     ]
    }
   ],
   "source": [
    "q_initial_pi_value = pyro.param('q_initial_pi').detach().cpu().numpy()\n",
    "print(f\"Final q_initial_pi: {q_initial_pi_value}\")\n"
   ]
  }
 ],
 "metadata": {
  "kernelspec": {
   "display_name": "Python 3",
   "language": "python",
   "name": "python3"
  },
  "language_info": {
   "codemirror_mode": {
    "name": "ipython",
    "version": 3
   },
   "file_extension": ".py",
   "mimetype": "text/x-python",
   "name": "python",
   "nbconvert_exporter": "python",
   "pygments_lexer": "ipython3",
   "version": "3.9.18"
  }
 },
 "nbformat": 4,
 "nbformat_minor": 2
}
