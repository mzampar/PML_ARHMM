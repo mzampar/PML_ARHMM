{
 "cells": [
  {
   "cell_type": "code",
   "execution_count": 18,
   "metadata": {},
   "outputs": [],
   "source": [
    "import numpy as np\n",
    "import torch\n",
    "from torch import nn\n",
    "import pyro\n",
    "import pyro.distributions as dist\n",
    "from pyro.infer import SVI, Trace_ELBO\n",
    "from pyro.optim import Adam\n",
    "import matplotlib.pyplot as plt"
   ]
  },
  {
   "cell_type": "code",
   "execution_count": 19,
   "metadata": {},
   "outputs": [],
   "source": [
    "def logits_to_probs(logits):\n",
    "    return torch.exp(logits - torch.logsumexp(logits, dim=-1, keepdim=True))\n",
    "\n",
    "class IOHMM_model:\n",
    "    def __init__(self, num_states, inputs, outputs, max_iter, tol,\n",
    "                 initial_pi=None, theta_transition=None, theta_emission=None, sd=None):\n",
    "    \n",
    "        self.num_states = num_states\n",
    "        self.inputs = inputs\n",
    "        self.outputs = outputs\n",
    "        self.T = inputs.shape[0]\n",
    "        self.max_iter = max_iter\n",
    "        self.tol = tol\n",
    "        self.history = []\n",
    "\n",
    "        # Initialize parameters\n",
    "        self.initial_pi = torch.ones(num_states) / num_states if initial_pi is None else initial_pi\n",
    "        self.theta_transition = torch.randn(num_states, num_states, inputs.shape[1] + 1) if theta_transition is None else theta_transition\n",
    "        self.theta_emission = torch.randn(num_states, inputs.shape[1] + 1) if theta_emission is None else theta_emission\n",
    "        self.sd = torch.ones(num_states, self.T) if sd is None else sd\n",
    "        #self.theta_transition = pyro.param('theta_transition', torch.randn(num_states, num_states, inputs.shape[1] + 1))\n",
    "        #self.theta_emission = pyro.param('theta_emission', torch.randn(num_states, inputs.shape[1] + 1))\n",
    "        #self.sd = pyro.param('sd', torch.ones(num_states, self.T), constraint=dist.constraints.positive)\n",
    "        #self.initial_pi = pyro.param('initial_pi', torch.ones(num_states) / num_states, constraint=dist.constraints.simplex)\n",
    "\n",
    "\n",
    "    def model(self, inputs, outputs):\n",
    "        \n",
    "        # Initial state distribution\n",
    "        z = pyro.sample('z_0', dist.Categorical(probs=self.initial_pi))\n",
    "\n",
    "        for t in range(self.T):\n",
    "            # Emission model\n",
    "            emission_mean = torch.matmul(self.theta_emission[z], torch.cat((torch.ones(1), inputs[t, :])).unsqueeze(-1)).squeeze()\n",
    "            sd = self.sd[z,t].exp()\n",
    "            pyro.sample(f'obs_{t}', dist.Normal(emission_mean, sd), obs=outputs[t])\n",
    "\n",
    "            if t < self.T - 1:\n",
    "                # Transition model\n",
    "                logits = torch.matmul(self.theta_transition[z], torch.cat((torch.ones(1), inputs[t, :])).unsqueeze(-1)).squeeze()\n",
    "                transition_probs = logits_to_probs(logits)\n",
    "                z = pyro.sample(f'z_{t+1}', dist.Categorical(probs=transition_probs))\n",
    "\n",
    "    def guide(self, inputs, outputs):\n",
    "        # Variational parameters for the initial state distribution\n",
    "        q_initial_pi = pyro.param('q_initial_pi', self.initial_pi, constraint=dist.constraints.simplex)\n",
    "        q_z = pyro.sample('z_0', dist.Categorical(probs=q_initial_pi))\n",
    "\n",
    "        q_theta_transition = pyro.param('q_theta_transition', self.theta_transition)\n",
    "        q_theta_emission = pyro.param('q_theta_emission', self.theta_emission)\n",
    "        q_sd = pyro.param('q_sd', self.sd, constraint=dist.constraints.positive)\n",
    "\n",
    "\n",
    "        for t in range(self.T - 1):\n",
    "            logits = torch.matmul(q_theta_transition[q_z], torch.cat((torch.ones(1), inputs[t, :])))\n",
    "            transition_probs = logits_to_probs(logits)\n",
    "            q_z = pyro.sample(f'z_{t+1}', dist.Categorical(probs=transition_probs))\n",
    "\n",
    "    def fit(self):\n",
    "        optimizer = Adam({\"lr\": 0.01})\n",
    "        svi = SVI(self.model, self.guide, optimizer, loss=Trace_ELBO())\n",
    "\n",
    "        for step in range(self.max_iter):\n",
    "            loss = svi.step(self.inputs, self.outputs)\n",
    "            \n",
    "            self.initial_pi = pyro.param('q_initial_pi')\n",
    "            self.theta_emission = pyro.param('q_theta_emission')\n",
    "            self.theta_transition = pyro.param('q_theta_transition')\n",
    "            self.sd = pyro.param('q_sd')\n",
    "\n",
    "            self.history.append(loss)\n",
    "            if step % 10 == 0:\n",
    "                print(f\"Step {step}: loss = {loss}\")\n",
    "            if step > 0 and abs(self.history[-1] - self.history[-2]) < self.tol:\n",
    "                break"
   ]
  },
  {
   "cell_type": "code",
   "execution_count": 20,
   "metadata": {},
   "outputs": [],
   "source": [
    "x=np.arange(np.pi/2 , 11*np.pi/2, 0.1)\n",
    "x=np.sin(x)\n",
    "x_shift = x[:-1]\n",
    "x = x[1:]\n",
    "diff = x - x_shift\n",
    "\n",
    "hidden_states = [0 if diff[i] > 0 else 1 for i in range(len(diff))]\n",
    "y = [x[i] + np.random.normal(0.5,0.1) if hidden_states[i]==0 else x[i] - np.random.normal(0.5,0.1) for i in range(len(x))]\n",
    "\n",
    "input = torch.tensor(np.array([x, diff]), dtype=torch.float32).T\n",
    "output = torch.tensor(y, dtype=torch.float32) "
   ]
  },
  {
   "cell_type": "code",
   "execution_count": 21,
   "metadata": {},
   "outputs": [
    {
     "name": "stdout",
     "output_type": "stream",
     "text": [
      "theta_transition\n",
      "tensor([[[-1.6018, -0.4087, -0.2512],\n",
      "         [ 0.7785, -0.2581, -1.9196]],\n",
      "\n",
      "        [[ 1.8021,  0.8438,  1.6848],\n",
      "         [-0.2177,  0.4126,  0.3597]]])\n",
      "theta_emission\n",
      "tensor([[-0.6570, -1.1272,  1.3226],\n",
      "        [ 1.6669, -0.3687, -0.4963]])\n",
      "initial_pi\n",
      "tensor([0.5000, 0.5000])\n"
     ]
    }
   ],
   "source": [
    "num_states = 2\n",
    "max_iter = 100\n",
    "tol = 1e-4\n",
    "\n",
    "iohmm = IOHMM_model(num_states, input, output, max_iter, tol)\n",
    "print(\"theta_transition\")\n",
    "print(iohmm.theta_transition)\n",
    "print(\"theta_emission\")\n",
    "print(iohmm.theta_emission)\n",
    "print(\"initial_pi\")\n",
    "print(iohmm.initial_pi)\n",
    "#print(iohmm.sd)"
   ]
  },
  {
   "cell_type": "code",
   "execution_count": 22,
   "metadata": {},
   "outputs": [
    {
     "name": "stdout",
     "output_type": "stream",
     "text": [
      "torch.Size([2, 3])\n",
      "torch.Size([157, 2])\n"
     ]
    }
   ],
   "source": [
    "print(iohmm.theta_emission.shape)\n",
    "print(iohmm.inputs.shape)"
   ]
  },
  {
   "cell_type": "code",
   "execution_count": 23,
   "metadata": {},
   "outputs": [
    {
     "name": "stdout",
     "output_type": "stream",
     "text": [
      "Step 0: loss = 516.8114584796131\n",
      "Step 10: loss = 148.99794578552246\n",
      "Step 20: loss = 149.31365782022476\n",
      "Step 30: loss = 149.02009469270706\n",
      "Step 40: loss = 148.85608476400375\n",
      "Step 50: loss = 148.9616652727127\n",
      "Step 60: loss = 148.95769107341766\n",
      "Step 70: loss = 148.92365789413452\n",
      "Step 80: loss = 148.83714193105698\n",
      "Step 90: loss = 148.73222917318344\n"
     ]
    }
   ],
   "source": [
    "iohmm.fit()"
   ]
  },
  {
   "cell_type": "code",
   "execution_count": 24,
   "metadata": {},
   "outputs": [
    {
     "data": {
      "text/plain": [
       "[<matplotlib.lines.Line2D at 0x165137580>]"
      ]
     },
     "execution_count": 24,
     "metadata": {},
     "output_type": "execute_result"
    },
    {
     "data": {
      "image/png": "[encoded data removed]",
      "text/plain": [
       "<Figure size 640x480 with 1 Axes>"
      ]
     },
     "metadata": {},
     "output_type": "display_data"
    }
   ],
   "source": [
    "plt.plot(iohmm.history)"
   ]
  },
  {
   "cell_type": "code",
   "execution_count": 25,
   "metadata": {},
   "outputs": [
    {
     "name": "stdout",
     "output_type": "stream",
     "text": [
      "theta_transition\n",
      "tensor([[[-7.3903e-01,  2.4524e-03,  1.3204e-01],\n",
      "         [-8.4980e-01,  2.9715e+00, -1.3494e+00]],\n",
      "\n",
      "        [[ 6.4803e-01, -3.8824e-01,  6.1834e-01],\n",
      "         [ 1.1932e+00,  1.1425e+00, -2.6338e+00]]], requires_grad=True)\n",
      "theta_emission\n",
      "tensor([[1.5391e-03, 1.0041e+00, 6.3776e+00],\n",
      "        [5.3172e-02, 9.2317e-01, 6.3538e+00]], requires_grad=True)\n",
      "initial_pi\n",
      "tensor([0.5839, 0.4161], grad_fn=<DivBackward0>)\n"
     ]
    }
   ],
   "source": [
    "# inspecting the learned parameters\n",
    "print(\"theta_transition\")\n",
    "print(iohmm.theta_transition)\n",
    "print(\"theta_emission\")\n",
    "print(iohmm.theta_emission)\n",
    "print(\"initial_pi\")\n",
    "print(iohmm.initial_pi)\n",
    "#print(iohmm.sd)"
   ]
  },
  {
   "cell_type": "code",
   "execution_count": 26,
   "metadata": {},
   "outputs": [
    {
     "name": "stdout",
     "output_type": "stream",
     "text": [
      "Final q_initial_pi: [0.5839242 0.4160758]\n"
     ]
    }
   ],
   "source": [
    "q_initial_pi_value = pyro.param('q_initial_pi').detach().cpu().numpy()\n",
    "print(f\"Final q_initial_pi: {q_initial_pi_value}\")\n"
   ]
  }
 ],
 "metadata": {
  "kernelspec": {
   "display_name": "Python 3",
   "language": "python",
   "name": "python3"
  },
  "language_info": {
   "codemirror_mode": {
    "name": "ipython",
    "version": 3
   },
   "file_extension": ".py",
   "mimetype": "text/x-python",
   "name": "python",
   "nbconvert_exporter": "python",
   "pygments_lexer": "ipython3",
   "version": "3.9.18"
  }
 },
 "nbformat": 4,
 "nbformat_minor": 2
}
